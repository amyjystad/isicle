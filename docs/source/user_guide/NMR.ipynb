{
 "cells": [
  {
   "cell_type": "markdown",
   "id": "37167049",
   "metadata": {},
   "source": [
    "# Nuclear Magnetic Resonance\n",
    "\n",
    "Nuclear magnetic resonance spectroscopy (NMR) is a power analytical tool in typically used for molecule identification. The values are often predicted with ab initio means to increase confidence in identification. To predict chemical shifts and spin couplings, we require, at minimum, a geometry. ISiCLE takes these inputs and can sequentially generate conformers and DFT optimized geometries to obtain Boltzmann-weighted NMR chemical shift values."
   ]
  },
  {
   "cell_type": "markdown",
   "id": "1345a46b",
   "metadata": {},
   "source": [
    "## Example Chemical Shift Calculation\n",
    "For an example NMR calculation, we load mol file containing dimethylglycine, which instantiates and ISiCLE Geometry object."
   ]
  },
  {
   "cell_type": "code",
   "execution_count": 1,
   "id": "a97a0503",
   "metadata": {},
   "outputs": [
    {
     "name": "stderr",
     "output_type": "stream",
     "text": [
      "/Users/jyst649/anaconda3/envs/isicle/lib/python3.9/site-packages/statsmodels/compat/pandas.py:65: FutureWarning: pandas.Int64Index is deprecated and will be removed from pandas in a future version. Use pandas.Index with the appropriate dtype instead.\n",
      "  from pandas import Int64Index as NumericIndex\n"
     ]
    },
    {
     "data": {
      "image/png": "[encoded data removed]",
      "text/plain": [
       "<rdkit.Chem.rdchem.Mol at 0x1a5321b80>"
      ]
     },
     "execution_count": 1,
     "metadata": {},
     "output_type": "execute_result"
    }
   ],
   "source": [
    "import isicle\n",
    "\n",
    "geom = isicle.load('dimethylglycine.mol')\n",
    "geom = geom.initial_optimize(embed=True)\n",
    "\n",
    "geom.mol"
   ]
  },
  {
   "cell_type": "markdown",
   "id": "ff116d5f",
   "metadata": {},
   "source": [
    "### Conformational Ensembles\n",
    "We use xtb's Conformer Rotamer Ensemble Sampling Tool, CREST to predict conformational ensembles. CREST is already a simple to use standalone command line tool, here we have created a Python function to call upon some tools CREST has made available followed by data parsed out from CREST output.\n",
    "\n",
    "For example, here we generate conformers in water using a 3 kcal/mol energy window using the GFF forcefield."
   ]
  },
  {
   "cell_type": "code",
   "execution_count": 2,
   "id": "34007b0e",
   "metadata": {},
   "outputs": [],
   "source": [
    "conformer = geom.md(forcefield='gff',\n",
    "                    ewin = 3,\n",
    "                    task = 'conformer',\n",
    "                    charge = geom.get_formal_charge(),\n",
    "                    solvation = 'water',\n",
    "                    processes = 4)"
   ]
  },
  {
   "cell_type": "code",
   "execution_count": 4,
   "id": "50ddf589",
   "metadata": {},
   "outputs": [
    {
     "data": {
      "text/plain": [
       "[<isicle.geometry.XYZGeometry object at 0x10a1740a0>, <isicle.geometry.XYZGeometry object at 0x10a174c10>, <isicle.geometry.XYZGeometry object at 0x1a55b0250>, <isicle.geometry.XYZGeometry object at 0x1a55b0490>, <isicle.geometry.XYZGeometry object at 0x1a55b0040>, <isicle.geometry.XYZGeometry object at 0x1a55b03d0>, <isicle.geometry.XYZGeometry object at 0x1a55b0340>, <isicle.geometry.XYZGeometry object at 0x1a55b03a0>, <isicle.geometry.XYZGeometry object at 0x1a55b0370>, <isicle.geometry.XYZGeometry object at 0x1a55b0f40>, <isicle.geometry.XYZGeometry object at 0x1a55b0520>, <isicle.geometry.XYZGeometry object at 0x1a55b01f0>, <isicle.geometry.XYZGeometry object at 0x1a55b0f10>, <isicle.geometry.XYZGeometry object at 0x1a55b0460>, <isicle.geometry.XYZGeometry object at 0x1a55b0070>, <isicle.geometry.XYZGeometry object at 0x10a190580>, <isicle.geometry.XYZGeometry object at 0x10a190c40>, <isicle.geometry.XYZGeometry object at 0x10a190520>, <isicle.geometry.XYZGeometry object at 0x10a190970>, <isicle.geometry.XYZGeometry object at 0x10a190a30>, <isicle.geometry.XYZGeometry object at 0x10a190280>, <isicle.geometry.XYZGeometry object at 0x10a190850>]"
      ]
     },
     "execution_count": 4,
     "metadata": {},
     "output_type": "execute_result"
    }
   ],
   "source": [
    "isicle.io.save('nmr_conformers.joblib', conformer)\n",
    "conformer.charge = 0\n",
    "\n",
    "conformer.get_structures()"
   ]
  },
  {
   "cell_type": "markdown",
   "id": "dc015b5b",
   "metadata": {},
   "source": [
    "The output `conformer` is saved in `nmr_conformers.joblib`. Each ISiCLE XTBWrapper object contains the history, the contents of the output file, parsed timing information and a list of conformers found by CREST that have been converted into ISiCLE XYZGeometry objects. "
   ]
  },
  {
   "cell_type": "markdown",
   "id": "9ef7bb4e",
   "metadata": {},
   "source": [
    "### Density Functional Theory Calculations\n",
    "\n",
    "We now calculate DFT single point energies for each conformer using open-source quantum chemical software, NWChem. The `dft` function generates the NWChem input file using the ISiCLE Geometry object and specifications for the DFT calculations. Specifications are customizable to any functional or basis set available in NWChem, but defaults are set to B3LYP and 6-31g*, respectively.\n",
    "\n",
    "Here we calculate the single point energies for each conformer using the hybrid functional, B3LYP, and split valence, double zeta basis set, 6-31+G**, and COSMO implicit solvation for water. For brevity, we only calculate the chemical shifts and spin of the lowest energy conformer."
   ]
  },
  {
   "cell_type": "code",
   "execution_count": 5,
   "id": "d2933968",
   "metadata": {},
   "outputs": [],
   "source": [
    "geom = conformer.geom[0]\n",
    "\n",
    "dft = geom.dft(tasks=['optimize', 'shielding'],\n",
    "                    functional='B3LYP',\n",
    "                    basis_set='6-31g*',\n",
    "                    ao_basis='cartesian',\n",
    "                    charge=conformer.charge,\n",
    "                    solvent='h2o',\n",
    "                    gas=False,\n",
    "                    max_iter=150,\n",
    "                    mem_global=1600,\n",
    "                    mem_heap=600,\n",
    "                    mem_stack=1000,\n",
    "                    scratch_dir='/tmp',\n",
    "                    processes=4,\n",
    "                    command='nwchem')\n"
   ]
  },
  {
   "cell_type": "code",
   "execution_count": 6,
   "id": "b4094e42",
   "metadata": {},
   "outputs": [
    {
     "data": {
      "text/plain": [
       "<isicle.geometry.XYZGeometry at 0x10a13fbb0>"
      ]
     },
     "execution_count": 6,
     "metadata": {},
     "output_type": "execute_result"
    }
   ],
   "source": [
    "isicle.io.save('nmr_dft.joblib', dft)\n",
    "dft.get_structure()"
   ]
  },
  {
   "cell_type": "markdown",
   "id": "918bf895",
   "metadata": {},
   "source": [
    "`dft` is an ISiCLE NWChemWrapper object of the DFT calculation of the selected conformer, in this case we have chosen the structure with the lowest energy. An NWChemWrapper object contains the optimized geometry, as well as parsed information from the NWChem output file, including chemical shielding tensors, electronic energy, Mulliken charges, timing information and structural connectivity. Results from the above script is saved in `nmr_dft.joblib` and can be viewed below."
   ]
  },
  {
   "cell_type": "markdown",
   "id": "da3dbad2",
   "metadata": {},
   "source": [
    "### Converting Chemical Shielding Tensors to Chemical Shifts\n",
    "To obtain our final chemical values, we convert the shielding tensors into chemical shifts. This is accomplished using the `transform` function in the `conformers` module, which allows a value or a list of values to be linearly transformed using a provided slope and y-intercept value. Here we use values from the CHESHIRE Chemical Shift Repository."
   ]
  },
  {
   "cell_type": "code",
   "execution_count": 11,
   "id": "b785afd1",
   "metadata": {
    "scrolled": true
   },
   "outputs": [
    {
     "data": {
      "text/html": [
       "<div>\n",
       "<style scoped>\n",
       "    .dataframe tbody tr th:only-of-type {\n",
       "        vertical-align: middle;\n",
       "    }\n",
       "\n",
       "    .dataframe tbody tr th {\n",
       "        vertical-align: top;\n",
       "    }\n",
       "\n",
       "    .dataframe thead th {\n",
       "        text-align: right;\n",
       "    }\n",
       "</style>\n",
       "<table border=\"1\" class=\"dataframe\">\n",
       "  <thead>\n",
       "    <tr style=\"text-align: right;\">\n",
       "      <th></th>\n",
       "      <th>value</th>\n",
       "      <th>index</th>\n",
       "      <th>atom</th>\n",
       "      <th>new_value</th>\n",
       "    </tr>\n",
       "  </thead>\n",
       "  <tbody>\n",
       "    <tr>\n",
       "      <th>7</th>\n",
       "      <td>29.3013</td>\n",
       "      <td>8</td>\n",
       "      <td>H</td>\n",
       "      <td>3.207480</td>\n",
       "    </tr>\n",
       "    <tr>\n",
       "      <th>8</th>\n",
       "      <td>29.4321</td>\n",
       "      <td>9</td>\n",
       "      <td>H</td>\n",
       "      <td>3.077714</td>\n",
       "    </tr>\n",
       "    <tr>\n",
       "      <th>9</th>\n",
       "      <td>28.4951</td>\n",
       "      <td>10</td>\n",
       "      <td>H</td>\n",
       "      <td>4.007311</td>\n",
       "    </tr>\n",
       "    <tr>\n",
       "      <th>10</th>\n",
       "      <td>29.3009</td>\n",
       "      <td>11</td>\n",
       "      <td>H</td>\n",
       "      <td>3.207877</td>\n",
       "    </tr>\n",
       "    <tr>\n",
       "      <th>11</th>\n",
       "      <td>29.4313</td>\n",
       "      <td>12</td>\n",
       "      <td>H</td>\n",
       "      <td>3.078507</td>\n",
       "    </tr>\n",
       "    <tr>\n",
       "      <th>12</th>\n",
       "      <td>28.4928</td>\n",
       "      <td>13</td>\n",
       "      <td>H</td>\n",
       "      <td>4.009593</td>\n",
       "    </tr>\n",
       "    <tr>\n",
       "      <th>13</th>\n",
       "      <td>28.1562</td>\n",
       "      <td>14</td>\n",
       "      <td>H</td>\n",
       "      <td>4.343534</td>\n",
       "    </tr>\n",
       "    <tr>\n",
       "      <th>14</th>\n",
       "      <td>28.1560</td>\n",
       "      <td>15</td>\n",
       "      <td>H</td>\n",
       "      <td>4.343732</td>\n",
       "    </tr>\n",
       "    <tr>\n",
       "      <th>15</th>\n",
       "      <td>25.9370</td>\n",
       "      <td>16</td>\n",
       "      <td>H</td>\n",
       "      <td>6.545202</td>\n",
       "    </tr>\n",
       "    <tr>\n",
       "      <th>0</th>\n",
       "      <td>150.3981</td>\n",
       "      <td>1</td>\n",
       "      <td>C</td>\n",
       "      <td>32.798725</td>\n",
       "    </tr>\n",
       "    <tr>\n",
       "      <th>2</th>\n",
       "      <td>150.3910</td>\n",
       "      <td>3</td>\n",
       "      <td>C</td>\n",
       "      <td>32.805694</td>\n",
       "    </tr>\n",
       "    <tr>\n",
       "      <th>3</th>\n",
       "      <td>134.9664</td>\n",
       "      <td>4</td>\n",
       "      <td>C</td>\n",
       "      <td>47.946482</td>\n",
       "    </tr>\n",
       "    <tr>\n",
       "      <th>4</th>\n",
       "      <td>25.5546</td>\n",
       "      <td>5</td>\n",
       "      <td>C</td>\n",
       "      <td>155.345105</td>\n",
       "    </tr>\n",
       "  </tbody>\n",
       "</table>\n",
       "</div>"
      ],
      "text/plain": [
       "       value  index atom   new_value\n",
       "7    29.3013      8    H    3.207480\n",
       "8    29.4321      9    H    3.077714\n",
       "9    28.4951     10    H    4.007311\n",
       "10   29.3009     11    H    3.207877\n",
       "11   29.4313     12    H    3.078507\n",
       "12   28.4928     13    H    4.009593\n",
       "13   28.1562     14    H    4.343534\n",
       "14   28.1560     15    H    4.343732\n",
       "15   25.9370     16    H    6.545202\n",
       "0   150.3981      1    C   32.798725\n",
       "2   150.3910      3    C   32.805694\n",
       "3   134.9664      4    C   47.946482\n",
       "4    25.5546      5    C  155.345105"
      ]
     },
     "execution_count": 11,
     "metadata": {},
     "output_type": "execute_result"
    }
   ],
   "source": [
    "isicle.conformers.transform(dft.shielding['shielding'], \n",
    "                            m={'H':-0.9921, 'C':-0.9816}, \n",
    "                            b={'H': 32.2773, 'C':180.4295}, \n",
    "                            atom=dft.shielding['atom'],\n",
    "                            index=dft.shielding['index'])"
   ]
  },
  {
   "cell_type": "code",
   "execution_count": 12,
   "id": "2cf08fcb",
   "metadata": {},
   "outputs": [
    {
     "data": {
      "image/png": "[encoded data removed]",
      "text/plain": [
       "<rdkit.Chem.rdchem.Mol at 0x10f4d6b80>"
      ]
     },
     "execution_count": 12,
     "metadata": {},
     "output_type": "execute_result"
    }
   ],
   "source": [
    "from rdkit import Chem\n",
    "from rdkit.Chem.Draw import IPythonConsole\n",
    "from rdkit.Chem import Draw\n",
    "IPythonConsole.drawOptions.addAtomIndices = True\n",
    "IPythonConsole.molSize = 300,300\n",
    "geom.mol"
   ]
  },
  {
   "cell_type": "markdown",
   "id": "07f6ebb8",
   "metadata": {},
   "source": [
    "Taking the chemical shifts of dimethylglycine from Human Metabolome Database, HMDB0000092, the average error is 0.10 and 15.1 ppm for proton and carbon chemical shift predictions. The framework to do an automated comparison between experimental and calculated values is not currently available in ISiCLE 2.0, but is in the plans for future updates.\n",
    "\n",
    "## Boltzmann Weighting Chemical Shift Values\n",
    "Though we only calculcate chemical shifts for one conformer in this tutorial, it is possible to Boltzmann weight chemical shifts if multiple conformers are considered. To obtain our Boltzmann weighted chemical shift values, we Boltzmann average across the different conformers by their DFT energies. This is accomplished using the `conformers` module. Here we generate a pseudo-\"conformer ensemble\" by duplicating the `dft` object in a list. We can then transform the boltzmann-weighted chemical shielding values to chemical shifts using the `transform` function in the `conformers` module, as shown in the previous example."
   ]
  },
  {
   "cell_type": "code",
   "execution_count": 3,
   "id": "55e89bed",
   "metadata": {},
   "outputs": [
    {
     "name": "stdout",
     "output_type": "stream",
     "text": [
      "      index      mean  std  n\n",
      "0    (1, C)  149.0905  0.0  2\n",
      "1    (2, N)  235.8028  0.0  2\n",
      "2    (3, C)  149.0902  0.0  2\n",
      "3    (4, C)  135.2399  0.0  2\n",
      "4    (5, C)   29.0039  0.0  2\n",
      "5    (6, O)  -63.3548  0.0  2\n",
      "6    (7, O)  137.3212  0.0  2\n",
      "7    (8, H)   29.9966  0.0  2\n",
      "8    (9, H)   30.1020  0.0  2\n",
      "9   (10, H)   29.0379  0.0  2\n",
      "10  (11, H)   29.9966  0.0  2\n",
      "11  (12, H)   30.1011  0.0  2\n",
      "12  (13, H)   29.0365  0.0  2\n",
      "13  (14, H)   28.8895  0.0  2\n",
      "14  (15, H)   28.8894  0.0  2\n",
      "15  (16, H)   26.9227  0.0  2\n"
     ]
    }
   ],
   "source": [
    "dfts=[dft,dft]\n",
    "\n",
    "boltzmann = {}\n",
    "\n",
    "dft_energies = []\n",
    "shift_values = []\n",
    "atom = []\n",
    "index = []\n",
    "\n",
    "for conformer in dfts:\n",
    "    for shift in dft.shielding['shielding']:\n",
    "        dft_energies.append(dft.energy)\n",
    "        shift_values.append(shift)\n",
    "    for atom_type in dft.shielding['atom']:\n",
    "        atom.append(atom_type)\n",
    "    for idx in dft.shielding['index']:\n",
    "        index.append(idx)\n",
    "\n",
    "res = isicle.conformers.boltzmann(shift_values, dft_energies, index=index, atom=atom)\n",
    "print(res)"
   ]
  },
  {
   "cell_type": "code",
   "execution_count": null,
   "id": "aee94ccc",
   "metadata": {},
   "outputs": [],
   "source": []
  }
 ],
 "metadata": {
  "kernelspec": {
   "display_name": "Python 3 (ipykernel)",
   "language": "python",
   "name": "python3"
  },
  "language_info": {
   "codemirror_mode": {
    "name": "ipython",
    "version": 3
   },
   "file_extension": ".py",
   "mimetype": "text/x-python",
   "name": "python",
   "nbconvert_exporter": "python",
   "pygments_lexer": "ipython3",
   "version": "3.9.16"
  }
 },
 "nbformat": 4,
 "nbformat_minor": 5
}
