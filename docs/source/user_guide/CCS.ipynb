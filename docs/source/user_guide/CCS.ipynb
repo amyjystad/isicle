{
 "cells": [
  {
   "cell_type": "markdown",
   "id": "2b61f5b3",
   "metadata": {},
   "source": [
    "# Collision Cross Section\n",
    "\n",
    "Collision cross sections (CCS) are an important parameter that characterizes the ion mobility behavior of molecules in the gas phase. CCS values can provide complementary information to the mass-to-charge ratio (m/z), which is used typically used for molecule identification. The values are often predicted with ab initio means to increase confidence in identification. To predict CCS values, we require a geometry and ion type as input. ISiCLE takes these input and can sequentially generate adducts, conformers, DFT optimized geometries to obtain Boltzmann-weighted CCS values."
   ]
  },
  {
   "cell_type": "markdown",
   "id": "5356df47",
   "metadata": {},
   "source": [
    "## Example Collision Cross Section Simulation\n",
    "For an example CCS calculation, we load mol file containing dimethylglycine, which instantiates and ISiCLE Geometry object"
   ]
  },
  {
   "cell_type": "code",
   "execution_count": null,
   "id": "1f4a0528",
   "metadata": {
    "scrolled": true
   },
   "outputs": [],
   "source": [
    "import isicle\n",
    "\n",
    "geom = isicle.load('dimethylglycine.mol')\n",
    "geom = geom.initial_optimize(embed=True)"
   ]
  },
  {
   "cell_type": "markdown",
   "id": "999f0262",
   "metadata": {},
   "source": [
    "### Adduct Generation\n",
    "To generate adducts, we ionize the molecule with H+ using the `explicit` method. ... # Need Jess's description.\n",
    "We specify the ion in the ion_list and the atom types to be ionized in element_list.\n",
    "\n",
    "Multiple ionizations by monoatomic ions is possible by repeating the ionize function on an adduct geometry object. At this time, polyatomic ions are not supported. "
   ]
  },
  {
   "cell_type": "code",
   "execution_count": null,
   "id": "5bfb945a",
   "metadata": {},
   "outputs": [],
   "source": [
    "# ionize Os and Ns\n",
    "adducts = geom.ionize(method = 'explicit',\n",
    "                      ion_list = ['H+'],\n",
    "                      element_list = ['O', 'N'])\n"
   ]
  },
  {
   "cell_type": "markdown",
   "id": "fd971634",
   "metadata": {},
   "source": [
    "The ionize function returns an ISiCLE adduct object which contains the history, the original ISiCLE geometry, its RDKit Mol object, a list of ISiCLE geometry objects for each adduct, and the basename. Each adducts' ISiCLE geometry objects contains its RDKit Mol object, the ion type, adduct ID, overall charge."
   ]
  },
  {
   "cell_type": "code",
   "execution_count": 11,
   "id": "68af59d0",
   "metadata": {
    "scrolled": true
   },
   "outputs": [
    {
     "data": {
      "image/png": "[encoded data removed]",
      "text/plain": [
       "<rdkit.Chem.rdchem.RWMol at 0x1b5a5f860>"
      ]
     },
     "execution_count": 11,
     "metadata": {},
     "output_type": "execute_result"
    }
   ],
   "source": [
    "adducts = isicle.load('ccs_adducts.joblib')\n",
    "adducts.adducts[0].mol"
   ]
  },
  {
   "cell_type": "markdown",
   "id": "fd4df90b",
   "metadata": {},
   "source": [
    "Here we can see that the first adduct has the nitrogen protonated, the second adduct has the =O protonated and the third has the -OH protonated. Next we generate conformers for each adduct.\n",
    "\n",
    "### Conformational Ensembles\n",
    "We use xtb's Conformer Rotamer Ensemble Sampling Tool, CREST to predict conformational ensembles. CREST is already a simple to use standalone command line tool, here we have created a Python function to call upon some tools CREST has made available followed by data parsed out from CREST output.\n",
    "\n",
    "For example, here we generate conformers using a 3 kcal/mol energy window using the GFF forcefield."
   ]
  },
  {
   "cell_type": "code",
   "execution_count": null,
   "id": "fd16accd",
   "metadata": {},
   "outputs": [],
   "source": [
    "conformers = {}\n",
    "\n",
    "for add in adducts.adducts:\n",
    "    try:\n",
    "        conformer = add.md(forcefield='gff',\n",
    "                           ewin = 3,\n",
    "                           task = 'conformer',\n",
    "                           charge = add.charge,\n",
    "                           processes = 4)\n",
    "    except RuntimeError:\n",
    "        continue\n",
    "\n",
    "    # Each iteration of the md function instantiates a new ISiCLE XTBWrapper object. \n",
    "    # We collect them here in a dictionary.\n",
    "    conformers[f\"{add.basename}_{add.ion}_{add.adductID}\"] = conformer"
   ]
  },
  {
   "cell_type": "markdown",
   "id": "f7722c95",
   "metadata": {},
   "source": [
    "The output `conformers` is saved in `ccs_conformers.joblib`. Each ISiCLE XTBWrapper object contains the history, the unparsed contents of the output file, parsed timing information and a list of conformers found by CREST that have been converted into ISiCLE XYZGeometry objects. "
   ]
  },
  {
   "cell_type": "code",
   "execution_count": 12,
   "id": "c75aee22",
   "metadata": {},
   "outputs": [
    {
     "data": {
      "text/plain": [
       "{'dimethylglycine_H+_1': <isicle.md.XTBWrapper at 0x107bd0790>,\n",
       " 'dimethylglycine_H+_2': <isicle.md.XTBWrapper at 0x1b5a5a730>,\n",
       " 'dimethylglycine_H+_3': <isicle.md.XTBWrapper at 0x1b5a59160>}"
      ]
     },
     "execution_count": 12,
     "metadata": {},
     "output_type": "execute_result"
    }
   ],
   "source": [
    "conformers = isicle.load('ccs_conformers.joblib')\n",
    "conformers"
   ]
  },
  {
   "cell_type": "code",
   "execution_count": 13,
   "id": "57755fad",
   "metadata": {},
   "outputs": [
    {
     "data": {
      "text/plain": [
       "[<isicle.geometry.XYZGeometry object at 0x1b5a5a4f0>, <isicle.geometry.XYZGeometry object at 0x1b5a5a520>]"
      ]
     },
     "execution_count": 13,
     "metadata": {},
     "output_type": "execute_result"
    }
   ],
   "source": [
    "conformers['dimethylglycine_H+_1'].get_structures()"
   ]
  },
  {
   "cell_type": "markdown",
   "id": "3ea7af42",
   "metadata": {},
   "source": [
    "### Density Functional Theory Calculations\n",
    "\n",
    "We now calculate DFT single point energies for each conformer using open-source quantum chemical software, NWChem. The `dft` function generates the NWChem input file using the ISiCLE Geometry object and specifications for the DFT calculations. Specifications are customizable to any functional or basis set available in NWChem, but defaults are set to B3LYP and 6-31g*, respectively.\n",
    "\n",
    "Here we calculate the perform geometry optimizations and single point energies for each conformer using the hybrid functional, B3LYP, and split valence, double zeta basis set, 3-21g*."
   ]
  },
  {
   "cell_type": "code",
   "execution_count": null,
   "id": "0378edfd",
   "metadata": {},
   "outputs": [],
   "source": [
    "dfts = {}\n",
    "\n",
    "for adduct in conformers:\n",
    "    \n",
    "    c = conformers[adduct]\n",
    "    # Instantiate a list to fill for each adduct\n",
    "    conf_dft = []\n",
    "    \n",
    "    for geom in c.geom:\n",
    "        try:\n",
    "            dft = geom.dft(tasks=['optimize', 'energy'],\n",
    "                              functional='B3LYP',\n",
    "                              basis_set='3-21g*',\n",
    "                              ao_basis='cartesian',\n",
    "                              charge=c.charge,\n",
    "                              gas=True,\n",
    "                              max_iter=150,\n",
    "                              mem_global=1600,\n",
    "                              mem_heap=600,\n",
    "                              mem_stack=1000,\n",
    "                              scratch_dir='/tmp',\n",
    "                              processes=4,\n",
    "                              command='nwchem')\n",
    "\n",
    "            conf_dft.append(dft)\n",
    "\n",
    "        except RuntimeError:\n",
    "            continue\n",
    "    dfts[adduct] = conf_dft\n"
   ]
  },
  {
   "cell_type": "markdown",
   "id": "9aa55072",
   "metadata": {},
   "source": [
    "`dfts` is a dictionary which contains an ISiCLE NWChemWrapper object for each DFT calculation. An NWChemWrapper object contains the optimized geometry, as well as parsed information from the NWChem output file, including electronic energy, Mulliken charges, timing information and structural connectivity. Results from the above script is saved in `ccs_dft.joblib` and can be viewed below."
   ]
  },
  {
   "cell_type": "code",
   "execution_count": 19,
   "id": "68e66a45",
   "metadata": {},
   "outputs": [
    {
     "data": {
      "text/plain": [
       "{'dimethylglycine_H+_1': [<isicle.qm.NWChemWrapper at 0x1b40479d0>,\n",
       "  <isicle.qm.NWChemWrapper at 0x1b402ec10>],\n",
       " 'dimethylglycine_H+_2': [<isicle.qm.NWChemWrapper at 0x1b5a64940>,\n",
       "  <isicle.qm.NWChemWrapper at 0x1b5a59e20>,\n",
       "  <isicle.qm.NWChemWrapper at 0x1b5a77370>,\n",
       "  <isicle.qm.NWChemWrapper at 0x1b5a77670>,\n",
       "  <isicle.qm.NWChemWrapper at 0x1b5a70550>],\n",
       " 'dimethylglycine_H+_3': [<isicle.qm.NWChemWrapper at 0x1b5a70850>,\n",
       "  <isicle.qm.NWChemWrapper at 0x1b5a705b0>,\n",
       "  <isicle.qm.NWChemWrapper at 0x1b5798e50>,\n",
       "  <isicle.qm.NWChemWrapper at 0x1b57bcd90>]}"
      ]
     },
     "execution_count": 19,
     "metadata": {},
     "output_type": "execute_result"
    }
   ],
   "source": [
    "dfts = isicle.load('ccs_dft.joblib')\n",
    "dfts"
   ]
  },
  {
   "cell_type": "markdown",
   "id": "644e69d1",
   "metadata": {},
   "source": [
    "### Collision Cross Section Calculations\n",
    "\n",
    "Next, we calculate the collision cross section for each of the optimized geometries produced from the DFT step using using a refactored version of MOBCAL for trajectory based mobility calculations. This version is included in the with installation of ISiCLE and improves upon the original verion's computational efficiency by two orders of magnitude. (Not currently supported on Mac).\n",
    "\n",
    "We conduct the calculation in nitrogen gas at room temperature using the Lennard-Jones potential."
   ]
  },
  {
   "cell_type": "code",
   "execution_count": null,
   "id": "14a8e6ec",
   "metadata": {},
   "outputs": [],
   "source": [
    "for adduct in dfts:\n",
    "   \n",
    "    ccs_list = []\n",
    "\n",
    "    for dft in dfts[adduct]: \n",
    "        try:\n",
    "            mw = isicle.mobility.calculate_ccs(dft.geom, lennard_jones='default',\n",
    "                                               i2=5013489,\n",
    "                                               buffer_gas='nitrogen',\n",
    "                                               buffer_gas_mass=28.014,\n",
    "                                               temp=300,\n",
    "                                               ipr=1000,\n",
    "                                               itn=10,\n",
    "                                               inp=48,\n",
    "                                               imp=1024,\n",
    "                                               processes=20,\n",
    "                                               command='mobcal_shm')\n",
    "            ccs_list.append(mw)\n",
    "\n",
    "        except RuntimeError:\n",
    "            continue\n",
    "\n",
    "    ccs[adduct] = ccs_list\n"
   ]
  },
  {
   "cell_type": "code",
   "execution_count": 15,
   "id": "380e2865",
   "metadata": {},
   "outputs": [
    {
     "data": {
      "text/plain": [
       "{'dimethylglycine_H+_1': [<isicle.mobility.MobcalWrapper at 0x1b5a59fa0>,\n",
       "  <isicle.mobility.MobcalWrapper at 0x1b5a620a0>],\n",
       " 'dimethylglycine_H+_2': [<isicle.mobility.MobcalWrapper at 0x1a30ea310>,\n",
       "  <isicle.mobility.MobcalWrapper at 0x1b5a62130>,\n",
       "  <isicle.mobility.MobcalWrapper at 0x1b40470d0>,\n",
       "  <isicle.mobility.MobcalWrapper at 0x1a30ea730>,\n",
       "  <isicle.mobility.MobcalWrapper at 0x1b5a64130>],\n",
       " 'dimethylglycine_H+_3': [<isicle.mobility.MobcalWrapper at 0x1a2e94a30>,\n",
       "  <isicle.mobility.MobcalWrapper at 0x1b5a62190>,\n",
       "  <isicle.mobility.MobcalWrapper at 0x1b57c9f10>,\n",
       "  <isicle.mobility.MobcalWrapper at 0x1b57bcb80>]}"
      ]
     },
     "execution_count": 15,
     "metadata": {},
     "output_type": "execute_result"
    }
   ],
   "source": [
    "ccs = isicle.load('ccs_mobility.joblib')\n",
    "ccs"
   ]
  },
  {
   "cell_type": "markdown",
   "id": "64e0bd0d",
   "metadata": {},
   "source": [
    "### Boltzmann Averaging CCS Values\n",
    "To obtain our Boltzmann weighted CCS values, we Boltzmann average across the different conformers by their DFT energies. This is accomplished using the `conformers` module. "
   ]
  },
  {
   "cell_type": "code",
   "execution_count": 20,
   "id": "270b6cb3",
   "metadata": {
    "scrolled": true
   },
   "outputs": [
    {
     "name": "stdout",
     "output_type": "stream",
     "text": [
      "mean    113.355158\n",
      "std       0.042272\n",
      "n        11.000000\n",
      "Name: 0, dtype: float64\n"
     ]
    }
   ],
   "source": [
    "boltzmann = {}\n",
    "import numpy as np\n",
    "\n",
    "dft_energies = []\n",
    "ccs_values = []\n",
    "\n",
    "for adduct in ccs:\n",
    "    for dft in dfts[adduct]:\n",
    "        dft_energies.append(dft.energy)\n",
    "    for ccs_v in ccs[adduct]:\n",
    "        ccs_values.append(ccs_v.ccs['mean'])\n",
    "    \n",
    "\n",
    "res = isicle.conformers.boltzmann(ccs_values, dft_energies)\n",
    "print(res)"
   ]
  },
  {
   "cell_type": "markdown",
   "id": "abffb528",
   "metadata": {},
   "source": [
    "Finally, we calibrate the values by linear regression variables we obtained from our previous study. "
   ]
  },
  {
   "cell_type": "code",
   "execution_count": 21,
   "id": "ed6a045a",
   "metadata": {},
   "outputs": [
    {
     "name": "stdout",
     "output_type": "stream",
     "text": [
      "130.59357623003885 0.03559141573268931\n"
     ]
    }
   ],
   "source": [
    "m = 0.8419640859610955\n",
    "b = 35.15260461418354\n",
    "\n",
    "ccs_mean = (res['mean'] * m) + b\n",
    "ccs_std = res['std'] * m\n",
    "print(ccs_mean, ccs_std)"
   ]
  },
  {
   "cell_type": "markdown",
   "id": "d7d92f92",
   "metadata": {},
   "source": [
    "Our final CCS value for dimethylglycine is 130.6 $\\r{A}^2$, predicting the experiemental value of 123.9 $\\r{A}^2$ with 5.4% error."
   ]
  }
 ],
 "metadata": {
  "kernelspec": {
   "display_name": "Python 3 (ipykernel)",
   "language": "python",
   "name": "python3"
  },
  "language_info": {
   "codemirror_mode": {
    "name": "ipython",
    "version": 3
   },
   "file_extension": ".py",
   "mimetype": "text/x-python",
   "name": "python",
   "nbconvert_exporter": "python",
   "pygments_lexer": "ipython3",
   "version": "3.9.16"
  }
 },
 "nbformat": 4,
 "nbformat_minor": 5
}
